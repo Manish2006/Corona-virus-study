{
  "nbformat": 4,
  "nbformat_minor": 0,
  "metadata": {
    "colab": {
      "provenance": [],
      "authorship_tag": "ABX9TyONt4lR3KBcCNICQVdkpGw4",
      "include_colab_link": true
    },
    "kernelspec": {
      "name": "python3",
      "display_name": "Python 3"
    },
    "language_info": {
      "name": "python"
    }
  },
  "cells": [
    {
      "cell_type": "markdown",
      "metadata": {
        "id": "view-in-github",
        "colab_type": "text"
      },
      "source": [
        "<a href=\"https://colab.research.google.com/github/Manish2006/Corona-virus-study/blob/master/Python_basics.ipynb\" target=\"_parent\"><img src=\"https://colab.research.google.com/assets/colab-badge.svg\" alt=\"Open In Colab\"/></a>"
      ]
    },
    {
      "cell_type": "code",
      "execution_count": 13,
      "metadata": {
        "colab": {
          "base_uri": "https://localhost:8080/"
        },
        "id": "KhEP3CAfPyYy",
        "outputId": "34a58d4a-90aa-40d5-f697-9cab0aa6faef"
      },
      "outputs": [
        {
          "output_type": "stream",
          "name": "stdout",
          "text": [
            "Hello World-> 1 .\n",
            "Hello World-> 2 ..\n",
            "Hello World-> 3 ...\n",
            "-----------------------------------------------\n",
            "Hello World-> 2 ..\n",
            "Hello World-> 4 ....\n",
            "Hello World-> 6 ......\n",
            "Hello World-> 8 ........\n"
          ]
        }
      ],
      "source": [
        "## For Looping\n",
        "## write sentence 8 times \n",
        "\n",
        "for string in range(3):\n",
        "  print(\"Hello World->\",string+1,(string+1)*'.')\n",
        "\n",
        "print(\"-----------------------------------------------\")\n",
        "\n",
        "for string2 in range(1,8,2):\n",
        "  print(\"Hello World->\",string2+1,(string2+1)*'.')"
      ]
    },
    {
      "cell_type": "code",
      "source": [
        "# for else looping\n",
        "# print odd or even\n",
        "x=89\n",
        "if x%2==0:\n",
        "  print(\"even\")\n",
        "else:\n",
        "  print(\"odd\") \n",
        "\n",
        "print(\"==============================================\")\n",
        "## break the loop when y = 3\n",
        "\n",
        "for e in range(4):\n",
        "  if e==3: \n",
        "    break\n",
        "  print(e)\n",
        "else:\n",
        "    print(\"hh\")"
      ],
      "metadata": {
        "colab": {
          "base_uri": "https://localhost:8080/"
        },
        "id": "06Hhpz-zQtOz",
        "outputId": "e16fbc69-1507-46e6-facd-012e0f35afa9"
      },
      "execution_count": 28,
      "outputs": [
        {
          "output_type": "stream",
          "name": "stdout",
          "text": [
            "odd\n",
            "==============================================\n",
            "0\n",
            "1\n",
            "2\n"
          ]
        }
      ]
    },
    {
      "cell_type": "code",
      "source": [
        "## loop over list\n",
        "a=[1,2,3,4]\n",
        "\n",
        "for b in a:\n",
        "\n",
        "  print(b*2)\n"
      ],
      "metadata": {
        "colab": {
          "base_uri": "https://localhost:8080/"
        },
        "id": "FdT66YOBQtUL",
        "outputId": "7eea9344-3e6c-441d-dc73-c492e41b2f6d"
      },
      "execution_count": 3,
      "outputs": [
        {
          "output_type": "stream",
          "name": "stdout",
          "text": [
            "2\n",
            "4\n",
            "6\n",
            "8\n"
          ]
        }
      ]
    },
    {
      "cell_type": "code",
      "source": [
        "##Find the Number Occurring Odd Number of Times\n",
        "arr = [5, 7, 2, 7, 5, 2, 5,5,7,4,5,6,7,8,9,1,2,3,4,5,6,7,8]\n",
        "def gg(jjjj):\n",
        "  count=0\n",
        "  for h in arr:\n",
        "   if (h%2 !=  0):\n",
        "    count+=1\n",
        "  return count\n"
      ],
      "metadata": {
        "id": "Aizv5nu6QtZy"
      },
      "execution_count": 13,
      "outputs": []
    },
    {
      "cell_type": "code",
      "source": [
        "final=gg(arr)\n",
        "print(final)"
      ],
      "metadata": {
        "colab": {
          "base_uri": "https://localhost:8080/"
        },
        "id": "pmP2wVd_QtfT",
        "outputId": "1799841a-096a-4df8-e5ee-7265aa773329"
      },
      "execution_count": 12,
      "outputs": [
        {
          "output_type": "stream",
          "name": "stdout",
          "text": [
            "14\n"
          ]
        }
      ]
    },
    {
      "cell_type": "code",
      "source": [
        "arr = [5, 7, 2, 7, 5, 2, 5,5,7,2]\n",
        "def gg(jjjj):\n",
        "  count=0\n",
        "  for h in arr:\n",
        "   if (h%2 ==  0):\n",
        "    count=count+h\n",
        "  return count\n",
        "   \n"
      ],
      "metadata": {
        "id": "zQsUDgp4QtiF"
      },
      "execution_count": 16,
      "outputs": []
    },
    {
      "cell_type": "code",
      "source": [
        "gg(arr)"
      ],
      "metadata": {
        "colab": {
          "base_uri": "https://localhost:8080/"
        },
        "id": "tr-z3hP-Qtk7",
        "outputId": "54b88a99-72f7-4f7e-8305-6400673b3206"
      },
      "execution_count": 17,
      "outputs": [
        {
          "output_type": "execute_result",
          "data": {
            "text/plain": [
              "6"
            ]
          },
          "metadata": {},
          "execution_count": 17
        }
      ]
    },
    {
      "cell_type": "code",
      "source": [
        "## for loops\n",
        "# print text 5 times using loop\n",
        "\n",
        "for number in range(1,6):\n",
        "  print(\"Welcome user\" , number* \",\")"
      ],
      "metadata": {
        "colab": {
          "base_uri": "https://localhost:8080/"
        },
        "id": "kcdxvKsvQtyQ",
        "outputId": "99786ca5-d1ee-4b2a-f351-8d5d75160b43"
      },
      "execution_count": 3,
      "outputs": [
        {
          "output_type": "stream",
          "name": "stdout",
          "text": [
            "Welcome user ,\n",
            "Welcome user ,,\n",
            "Welcome user ,,,\n",
            "Welcome user ,,,,\n",
            "Welcome user ,,,,,\n"
          ]
        }
      ]
    },
    {
      "cell_type": "code",
      "source": [
        "# for else loop\n",
        "succesfull= False\n",
        "for n in range(2):\n",
        "  print(\"registered\")\n",
        "  if succesfull:\n",
        "    print(\"success\")\n",
        "    break\n",
        "else:\n",
        "  print(\"registered was not done\")"
      ],
      "metadata": {
        "colab": {
          "base_uri": "https://localhost:8080/"
        },
        "id": "RVuFQkYqQt1m",
        "outputId": "7a4cb08a-370a-4235-879a-6c32b8e2e176"
      },
      "execution_count": 5,
      "outputs": [
        {
          "output_type": "stream",
          "name": "stdout",
          "text": [
            "registered\n",
            "registered\n",
            "registered was not done\n"
          ]
        }
      ]
    },
    {
      "cell_type": "code",
      "source": [
        "## nested loop\n",
        "\n",
        "names = ['Kelly', 'Jessa', 'Emma']\n",
        "# outer loop\n",
        "for name in names:\n",
        "    # inner while loop\n",
        "    count = 0\n",
        "    while count < 2:\n",
        "        print(name, end=' ')\n",
        "        # increment counter\n",
        "        count = count + 1\n",
        "    print()"
      ],
      "metadata": {
        "colab": {
          "base_uri": "https://localhost:8080/"
        },
        "id": "wWpUVZZzltZO",
        "outputId": "e21396d6-655b-4d8e-cba3-f863c8a2cf8e"
      },
      "execution_count": 7,
      "outputs": [
        {
          "output_type": "stream",
          "name": "stdout",
          "text": [
            "Kelly Kelly \n",
            "Jessa Jessa \n",
            "Emma Emma \n"
          ]
        }
      ]
    },
    {
      "cell_type": "code",
      "source": [
        "## write even numbers\n",
        "count=0\n",
        "for number in range(1,10):\n",
        " \n",
        "  if number %2 == 0:\n",
        "    count+=1\n",
        "    print(number)\n",
        "    \n",
        "print(f\" There are {count} values \")\n"
      ],
      "metadata": {
        "colab": {
          "base_uri": "https://localhost:8080/"
        },
        "id": "J15LAxVYltb2",
        "outputId": "e8ffafd0-7cd5-4b2f-ca1f-3315f6f152e8"
      },
      "execution_count": 26,
      "outputs": [
        {
          "output_type": "stream",
          "name": "stdout",
          "text": [
            "2\n",
            "4\n",
            "6\n",
            "8\n",
            " There are 4 values \n"
          ]
        }
      ]
    },
    {
      "cell_type": "code",
      "source": [
        "months = ['Jan', 'Feb', 'Mar', 'Apr', 'May', 'Jun']\n",
        "sales = [12000, 15000, 18000, 14000, 16000, 20000]\n",
        "new = months+sales\n",
        "print(new[-1])"
      ],
      "metadata": {
        "colab": {
          "base_uri": "https://localhost:8080/"
        },
        "id": "wYKB1CYRltec",
        "outputId": "e2d76aa1-4bf8-4c4e-a8fe-598a664fdced"
      },
      "execution_count": 5,
      "outputs": [
        {
          "output_type": "stream",
          "name": "stdout",
          "text": [
            "20000\n"
          ]
        }
      ]
    },
    {
      "cell_type": "code",
      "source": [],
      "metadata": {
        "id": "XG7d1ostlthK"
      },
      "execution_count": 5,
      "outputs": []
    },
    {
      "cell_type": "markdown",
      "source": [
        "Interview Questions - List\n"
      ],
      "metadata": {
        "id": "6Lb7WBm4Ekf4"
      }
    },
    {
      "cell_type": "code",
      "source": [
        "## Find the maximum and minimum values in a list\n",
        "\n",
        "List1= [ 1,2,3,4,55,77,100]\n",
        "min_value= min(List1)\n",
        "max_value=max(List1)\n",
        "print(f\" min value is {min_value}\")\n",
        "print(f\" max value is {max_value}\")\n"
      ],
      "metadata": {
        "colab": {
          "base_uri": "https://localhost:8080/"
        },
        "id": "TgMyqlopltjr",
        "outputId": "5008aaca-d7b0-46c9-a2bb-7dcf27454c1d"
      },
      "execution_count": 14,
      "outputs": [
        {
          "output_type": "stream",
          "name": "stdout",
          "text": [
            " min value is 1\n",
            " max value is 100\n"
          ]
        }
      ]
    },
    {
      "cell_type": "code",
      "source": [
        "## Remove duplicates from a list while preserving the order of elements.\n",
        "\n",
        "List2= [ 1,2,2,4,3,55,77,100]\n",
        "tup=set(List2)\n",
        "#print(tup)\n",
        "ll=list(tup)\n",
        "print(ll)\n",
        "print(List2)"
      ],
      "metadata": {
        "colab": {
          "base_uri": "https://localhost:8080/"
        },
        "id": "5vwyrIufltnO",
        "outputId": "0265b233-21d3-49a1-9e8a-0b3d58b78cd8"
      },
      "execution_count": 19,
      "outputs": [
        {
          "output_type": "stream",
          "name": "stdout",
          "text": [
            "[1, 2, 3, 4, 100, 77, 55]\n",
            "[1, 2, 2, 4, 3, 55, 77, 100]\n"
          ]
        }
      ]
    },
    {
      "cell_type": "code",
      "source": [
        "## Reverse a list without using any built-in functions.\n",
        "list3=[2,3,1,5]\n",
        "reversed_numbers = list3[::-1]\n",
        "\n",
        "print(reversed_numbers)"
      ],
      "metadata": {
        "colab": {
          "base_uri": "https://localhost:8080/"
        },
        "id": "kNkbrABrGYI2",
        "outputId": "93658c00-a72f-4c5e-dd86-293c39d06c78"
      },
      "execution_count": 22,
      "outputs": [
        {
          "output_type": "stream",
          "name": "stdout",
          "text": [
            "[5, 1, 3, 2]\n"
          ]
        }
      ]
    },
    {
      "cell_type": "code",
      "source": [
        "## Find the second largest element in a list.\n",
        "hh=[3,4,5,6,100,101]\n",
        "hh.sort(reverse=True)\n",
        "second_highest=hh[1]\n",
        "print(f\"the second highest number is {second_highest}\")"
      ],
      "metadata": {
        "colab": {
          "base_uri": "https://localhost:8080/"
        },
        "id": "6cSBblOGGYN4",
        "outputId": "de1ad0a8-6691-4a84-ff74-1d5e1b5b764d"
      },
      "execution_count": 26,
      "outputs": [
        {
          "output_type": "stream",
          "name": "stdout",
          "text": [
            "the secong highest number is 100\n"
          ]
        }
      ]
    },
    {
      "cell_type": "code",
      "source": [
        "## Merge two sorted lists into a single sorted list\n",
        "A=[1, 4, 6, 8]\n",
        "B=[2, 3, 5, 7, 9]\n",
        "c=A+B\n",
        "\n",
        "c.sort(reverse=False)\n",
        "print(c)"
      ],
      "metadata": {
        "colab": {
          "base_uri": "https://localhost:8080/"
        },
        "id": "S8UkDhnTGYQr",
        "outputId": "e5b99bd8-aaf8-4bf3-839d-422f1433b4b2"
      },
      "execution_count": 30,
      "outputs": [
        {
          "output_type": "stream",
          "name": "stdout",
          "text": [
            "[1, 2, 3, 4, 5, 6, 7, 8, 9]\n"
          ]
        }
      ]
    },
    {
      "cell_type": "code",
      "source": [
        "#Determine if a list is palindrome (reads the same forwards and backwards).\n",
        "\n",
        "\n",
        "qaz=[4,5,6,5,3]\n",
        "ff=qaz[::-1]\n",
        "\n",
        "if qaz == ff :\n",
        "  print(\"True\")\n",
        "else:\n",
        "  print(\"false\")\n",
        "\n"
      ],
      "metadata": {
        "colab": {
          "base_uri": "https://localhost:8080/"
        },
        "id": "0dBfCC_jGYYg",
        "outputId": "b599c308-ed83-44c6-a59d-5f9464f97746"
      },
      "execution_count": 38,
      "outputs": [
        {
          "output_type": "stream",
          "name": "stdout",
          "text": [
            "false\n"
          ]
        }
      ]
    },
    {
      "cell_type": "code",
      "source": [
        "#Remove all occurrences of a specific element from a list.\n",
        "\n",
        "\n",
        "AA=[1,1,2,3,4,5,6,6,7,5,4]\n",
        "#print(AA)\n",
        "output=[2,3,4,5]\n",
        "\n",
        "out={}\n",
        "for i in AA:\n",
        "  if i in out:\n",
        "    out[i]+=1\n",
        "  else:\n",
        "    out[i]=1\n",
        "\n",
        "print(out)\n",
        "filtered_dict = {key: value for key, value in out.items() if value < 2}\n",
        "\n",
        "final=list(filtered_dict)\n",
        "print(final)"
      ],
      "metadata": {
        "colab": {
          "base_uri": "https://localhost:8080/"
        },
        "id": "ij9zdtMMLZrb",
        "outputId": "3058f5f8-5808-42fd-a656-f03c7b9a4579"
      },
      "execution_count": 90,
      "outputs": [
        {
          "output_type": "stream",
          "name": "stdout",
          "text": [
            "{1: 2, 2: 1, 3: 1, 4: 2, 5: 2, 6: 2, 7: 1}\n",
            "[2, 3, 7]\n"
          ]
        }
      ]
    },
    {
      "cell_type": "code",
      "source": [
        "#Count the frequency of elements in a list and store the results in a dictionary.\n",
        "\n",
        "\n",
        "sentense = \"My name is Manish Sharma\"\n",
        "dicty={}\n",
        "\n",
        "for j in sentense:\n",
        "  if j in dicty:\n",
        "    dicty[j]+=1\n",
        "  else:\n",
        "      dicty[j]=1\n",
        "\n",
        "\n",
        "print(sorted(dicty.items(),key=lambda gg:gg[1],reverse=True))\n",
        "\n",
        "fin= sorted(dicty.items(),key=lambda gg:gg[1],reverse=True)\n",
        "print(fin[1])\n"
      ],
      "metadata": {
        "colab": {
          "base_uri": "https://localhost:8080/"
        },
        "id": "6lQW5qDDLZzb",
        "outputId": "002ac2b1-77fd-4df6-ac48-3db194addde8"
      },
      "execution_count": 100,
      "outputs": [
        {
          "output_type": "stream",
          "name": "stdout",
          "text": [
            "[(' ', 4), ('a', 4), ('M', 2), ('n', 2), ('m', 2), ('i', 2), ('s', 2), ('h', 2), ('y', 1), ('e', 1), ('S', 1), ('r', 1)]\n",
            "('a', 4)\n"
          ]
        }
      ]
    },
    {
      "cell_type": "code",
      "source": [
        "#Find the intersection of two lists (common elements).\n",
        "\n",
        "list1 = [1, 2, 4, 6, 5]\n",
        "list2 = [4, 5, 6, 7, 8]\n",
        "\n",
        "list3=list1+list2\n",
        "\n",
        "\n",
        "jit={}\n",
        "for hj in list3:\n",
        "  if hj in jit:\n",
        "    jit[hj]+=1\n",
        "  else:\n",
        "    jit[hj]=1\n",
        "\n",
        "filtered_dict = dict(filter(lambda item: item[1] > 1, jit.items()))\n",
        "\n",
        "fij=list(filtered_dict)\n",
        "print(fij)\n",
        "\n"
      ],
      "metadata": {
        "colab": {
          "base_uri": "https://localhost:8080/"
        },
        "id": "Sba2pBlqLZ3P",
        "outputId": "c2c5eff3-d1ff-497c-d604-3f19890bfba8"
      },
      "execution_count": 130,
      "outputs": [
        {
          "output_type": "stream",
          "name": "stdout",
          "text": [
            "[4, 6, 5]\n"
          ]
        }
      ]
    },
    {
      "cell_type": "code",
      "source": [
        "#Rotate a list by a specified number of positions.\n",
        "\n",
        "my_list = [1, 2, 3, 4, 5]\n",
        "\n",
        "# Number of positions to rotate\n",
        "positions = 3\n",
        "\n",
        "# Rotate the list to the right by the specified number of positions\n",
        "rotated_list = my_list[-positions:] + my_list[:-positions]\n",
        "## my_list[-2:]+my_list[:-2]\n",
        "\n",
        "# Print the rotated list\n",
        "print(rotated_list)\n",
        "\n"
      ],
      "metadata": {
        "colab": {
          "base_uri": "https://localhost:8080/"
        },
        "id": "URvJlrvTLZ6Q",
        "outputId": "3e9438c0-8b12-4fcd-9489-b8ef4178c076"
      },
      "execution_count": 101,
      "outputs": [
        {
          "output_type": "stream",
          "name": "stdout",
          "text": [
            "[3, 4, 5, 1, 2]\n"
          ]
        }
      ]
    }
  ]
}